{
 "cells": [
  {
   "cell_type": "code",
   "execution_count": null,
   "id": "bd9ad657-77f0-4cba-a5a4-dd14cac902df",
   "metadata": {},
   "outputs": [],
   "source": [
    "import numpy as np\n",
    "import os\n",
    "import torch\n",
    "import torch.nn as nn\n",
    "import torch.nn.functional as F\n",
    "from torch.utils.data import DataLoader\n",
    "from torchvision import models, transforms\n",
    "from PIL import Image\n",
    "import matplotlib.pyplot as plt\n",
    "from sklearn.tree import DecisionTreeClassifier\n",
    "import random\n",
    "from scipy.spatial.distance import cdist\n",
    "import gc\n",
    "import uuid\n",
    "\n",
    "from ilore.util import vector2dict, neuclidean\n",
    "from ilore.explanation import ImageExplanation\n",
    "from ilore.ineighgen import ImageRandomAdversarialGeneratorLatent\n",
    "from ilore.decision_tree import learn_local_decision_tree\n",
    "from ilore.rule import get_rule, get_counterfactual_rules, Condition, Rule, apply_counterfactual\n",
    "import time\n",
    "from utils.decoder import ConvNextDecoder\n",
    "from utils.decoder import Discriminator\n",
    "from utils.run_ilore_iterative import run_ilore_abele_iterative\n",
    "import os"
   ]
  },
  {
   "cell_type": "code",
   "execution_count": null,
   "id": "ec5bbf70-642f-43f1-936f-55046340961a",
   "metadata": {},
   "outputs": [],
   "source": [
    "random.seed(42)\n",
    "np.random.seed(42)\n",
    "torch.manual_seed(42)\n",
    "if torch.cuda.is_available():\n",
    "    torch.cuda.manual_seed_all(42)"
   ]
  },
  {
   "cell_type": "code",
   "execution_count": null,
   "id": "45379637-53a7-4773-a14c-4678ed514a09",
   "metadata": {},
   "outputs": [],
   "source": [
    "start_time = time.time()"
   ]
  },
  {
   "cell_type": "code",
   "execution_count": null,
   "id": "207777f3-84d2-46fb-8f4e-c1e2ab7cb14b",
   "metadata": {},
   "outputs": [],
   "source": [
    "    os.environ[\"PYTORCH_CUDA_ALLOC_CONF\"] = \"expandable_segments:True\"\n",
    "    # Clear CUDA cache before starting\n",
    "    if torch.cuda.is_available():\n",
    "        torch.cuda.empty_cache()\n",
    "        \n",
    "    if torch.cuda.is_available():\n",
    "        torch.cuda.set_per_process_memory_fraction(1.0)"
   ]
  },
  {
   "cell_type": "code",
   "execution_count": null,
   "id": "ce35c4b9",
   "metadata": {},
   "outputs": [],
   "source": [
    "#Use iterative\n",
    "run_ilore_abele_iterative(\n",
    "    black_box_path='Path to FR Model',\n",
    "    autoencoder_path='Path to autoencoder (it expects a complete AAE)',\n",
    "    dataset_dir='Path to Input Directory',\n",
    "    output_dir=\"Path to Input Directory\",\n",
    "    max_iterations=100000,\n",
    "    distortion_factor= 0.5\n",
    ")"
   ]
  },
  {
   "cell_type": "code",
   "execution_count": null,
   "id": "2ea8c63d",
   "metadata": {},
   "outputs": [],
   "source": [
    "end_time = time.time()\n",
    "print(f\"{end_time - start_time} seconds\")"
   ]
  }
 ],
 "metadata": {
  "kernelspec": {
   "display_name": "Python 3 (ipykernel)",
   "language": "python",
   "name": "python3"
  },
  "language_info": {
   "codemirror_mode": {
    "name": "ipython",
    "version": 3
   },
   "file_extension": ".py",
   "mimetype": "text/x-python",
   "name": "python",
   "nbconvert_exporter": "python",
   "pygments_lexer": "ipython3",
   "version": "3.12.8"
  }
 },
 "nbformat": 4,
 "nbformat_minor": 5
}
